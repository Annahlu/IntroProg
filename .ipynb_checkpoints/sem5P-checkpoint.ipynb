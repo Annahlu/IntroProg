{
 "cells": [
  {
   "cell_type": "markdown",
   "metadata": {},
   "source": [
    "#### Problema 1"
   ]
  },
  {
   "cell_type": "code",
   "execution_count": null,
   "metadata": {},
   "outputs": [],
   "source": [
    "M = []\n",
    "for i in range(3):\n",
    "    L = [float(x) for x in input().split()]\n",
    "    M.append(L)\n",
    "tr = 0\n",
    "for i in range(3):\n",
    "    tr+= M[i][i]\n",
    "print('%.2f' %tr)\n",
    "    "
   ]
  },
  {
   "cell_type": "markdown",
   "metadata": {},
   "source": [
    "#### Problema 2"
   ]
  },
  {
   "cell_type": "code",
   "execution_count": null,
   "metadata": {},
   "outputs": [],
   "source": [
    "m, n = input().split()\n",
    "m ,n = int(m), int(n)\n",
    "A = []\n",
    "for i in range(m):\n",
    "    L = [float(x) for x in input().split()]\n",
    "    A.append(L)\n",
    "res = 0\n",
    "for i in range(m):\n",
    "    for j in range(n):\n",
    "        res += A[i][j]**2\n",
    "res **= 0.5\n",
    "print('%.2f' % res)"
   ]
  },
  {
   "cell_type": "markdown",
   "metadata": {},
   "source": [
    "#### Problema 3"
   ]
  },
  {
   "cell_type": "code",
   "execution_count": null,
   "metadata": {},
   "outputs": [],
   "source": [
    "n = int(input())\n",
    "P = []\n",
    "for i in range(n):\n",
    "    L = [0]*n\n",
    "    L[0] = 1\n",
    "    P.append(L)\n",
    "    \n",
    "for i in range(1,n):\n",
    "    for j in range(1,i+1):\n",
    "        P[i][j] = P[i-1][j] + P[i-1][j-1]\n",
    "        \n",
    "for i in range(n):\n",
    "    print(' '.join([str(x) for x in P[i]]))"
   ]
  }
 ],
 "metadata": {
  "kernelspec": {
   "display_name": "Python 3",
   "language": "python",
   "name": "python3"
  },
  "language_info": {
   "codemirror_mode": {
    "name": "ipython",
    "version": 3
   },
   "file_extension": ".py",
   "mimetype": "text/x-python",
   "name": "python",
   "nbconvert_exporter": "python",
   "pygments_lexer": "ipython3",
   "version": "3.7.6"
  }
 },
 "nbformat": 4,
 "nbformat_minor": 4
}

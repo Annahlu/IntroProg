{
 "cells": [
  {
   "cell_type": "markdown",
   "metadata": {},
   "source": [
    "#### Problema 1 - soma de matrizes 2x2\n"
   ]
  },
  {
   "cell_type": "code",
   "execution_count": null,
   "metadata": {},
   "outputs": [],
   "source": [
    "A, B = [], []\n",
    "C = [[0,0],[0,0]]\n",
    "for i in range(2):\n",
    "    L = [float(x) for x in input().split()]\n",
    "    A.append(L)\n",
    "for i in range(2):\n",
    "    L = [float(x) for x in input().split()]\n",
    "    B.append(L)\n",
    "for i in range(2):\n",
    "    for j in range(2):\n",
    "        C[i][j] = A[i][j]+ B[i][j]\n",
    "        \n",
    "print('%.2f %.2f' %(C[0][0], C[0][1]))\n",
    "print('%.2f %.2f' %(C[1][0], C[1][1]))\n"
   ]
  },
  {
   "cell_type": "markdown",
   "metadata": {},
   "source": [
    "#### Problema 2 - matriz transposta"
   ]
  },
  {
   "cell_type": "code",
   "execution_count": null,
   "metadata": {},
   "outputs": [],
   "source": [
    "n, m = input().split()\n",
    "n, m= int(n), int(m)\n",
    "A = []\n",
    "C = [[[0]*n]*m]\n",
    "for i in range(n):\n",
    "    L = [float(x) for x in input().split()]\n",
    "    A.append(L)\n",
    "for j in range(m):\n",
    "    for i in range(n):\n",
    "        if(i < n-1):\n",
    "            print('%.2f' %A[i][j],end=\" \")\n",
    "        else: \n",
    "            print('%.2f' %A[i][j])\n",
    "            "
   ]
  },
  {
   "cell_type": "markdown",
   "metadata": {},
   "source": [
    "#### Problema 3 - matriz inversa"
   ]
  },
  {
   "cell_type": "code",
   "execution_count": null,
   "metadata": {},
   "outputs": [],
   "source": [
    "A = []\n",
    "C = [[0,0],[0,0]]\n",
    "for i in range(2):\n",
    "    L = [float(x) for x in input().split()]\n",
    "    A.append(L)\n",
    "d = A[0][0]*A[1][1] + ((A[0][1]*A[1][0])*-1)\n",
    "if(d == 0):\n",
    "    print('Singular')\n",
    "else: \n",
    "    C[0][0] = (1.0/d) * A[1][1]\n",
    "    C[0][1] = (1.0/d) * A[0][1] * -1\n",
    "    C[1][0] = (1.0/d) * A[1][0] * -1\n",
    "    C[1][1] = (1.0/d) * A[0][0]\n",
    "    print('%.2f %.2f' %(C[0][0], C[0][1]))\n",
    "    print('%.2f %.2f' %(C[1][0], C[1][1]))"
   ]
  },
  {
   "cell_type": "markdown",
   "metadata": {},
   "source": [
    "#### Problema 4 - multiplicação"
   ]
  },
  {
   "cell_type": "code",
   "execution_count": null,
   "metadata": {},
   "outputs": [],
   "source": [
    "import numpy as np\n",
    "a1, a2, b1, b2 = input().split()\n",
    "a1, a2, b1, b2 = int(a1), int(a2), int(b1), int(b2)\n",
    "A = []\n",
    "B = []\n",
    "if (a2 == b1):\n",
    "    C = []\n",
    "    for i in range(a1):\n",
    "        X = [float(i) for i in input().split()]\n",
    "        A.append(X)\n",
    "    for j in range(b1):\n",
    "        Y = [float(i) for i in input().split()]\n",
    "        B.append(Y)\n",
    "    x = np.array(A)\n",
    "    y = np.array(B)\n",
    "    r = x.dot(y)\n",
    "    for i in range(a1):\n",
    "        print(' '.join([str('%.2f' %k) for k in (r[i])]))\n",
    "else:\n",
    "    print('Incompatíveis')"
   ]
  },
  {
   "cell_type": "markdown",
   "metadata": {},
   "source": [
    "#### Problema 5 - Quadrado mágico"
   ]
  },
  {
   "cell_type": "code",
   "execution_count": null,
   "metadata": {},
   "outputs": [],
   "source": [
    "def soma_linha(A, i):\n",
    "    soma = 0\n",
    "    for l in A[i]:\n",
    "        soma += l\n",
    "    return soma\n",
    "\n",
    "def soma_coluna(A, i):\n",
    "    soma = 0\n",
    "    for l in A:\n",
    "        soma += l[i]\n",
    "    return soma\n",
    "\n",
    "def soma_diagonal_principal(A):\n",
    "    soma = 0\n",
    "    for i in range(len(A)):\n",
    "        soma += A[i][i]\n",
    "    return soma\n",
    "\n",
    "def soma_diagonal_secundaria(A):\n",
    "    soma = 0\n",
    "    for i in range(len(A)):\n",
    "        soma += A[i][len(A)-i-1]\n",
    "    return soma\n",
    "\n",
    "n = int(input())\n",
    "A = []\n",
    "\n",
    "\n",
    "for i in range(n):\n",
    "    L = [int(x) for x in input().split()]\n",
    "    A.append(L)\n",
    "   \n",
    "soma_igual = True\n",
    "soma = soma_linha(A,0)\n",
    "\n",
    "if(soma_diagonal_principal(A) != soma or soma_diagonal_secundaria(A) != soma):\n",
    "    soma_igual = False\n",
    "\n",
    "if(soma_igual):\n",
    "    for i in range(n):\n",
    "        if(soma_linha(A,i) != soma or soma_coluna(A,i) != soma):\n",
    "            soma_igual = False\n",
    "            break        \n",
    "\n",
    "if(soma_igual):\n",
    "    print(soma)\n",
    "else:\n",
    "    print(\"-1\")\n",
    "\n"
   ]
  },
  {
   "cell_type": "markdown",
   "metadata": {},
   "source": [
    "#### Problema 6 - Campo minado"
   ]
  },
  {
   "cell_type": "code",
   "execution_count": null,
   "metadata": {},
   "outputs": [],
   "source": [
    "def count_mines(A):\n",
    "    B = A.copy()\n",
    "    for i in range(A.shape[0]):\n",
    "        i_aux = i-1\n",
    "        if(i==0):\n",
    "                i_aux = 0\n",
    "        for j in range(A.shape[1]):\n",
    "            if(A[i,j] != -1):\n",
    "                j_aux = j-1\n",
    "                if(j==0):\n",
    "                    j_aux = 0\n",
    "                R = A[i_aux:i+2,j_aux:j+2]\n",
    "                B[i,j] = -np.sum(R)\n",
    "    return B\n",
    "\n",
    "import numpy as np\n",
    "A = []\n",
    "n, m = input().split()\n",
    "n, m = int(n), int(m)\n",
    "for i in range(n):\n",
    "    L = [int(x) for x in input().split()]\n",
    "    A.append(L)\n",
    "A = np.array(A)\n",
    "A[np.where(A == 1)] = -1\n",
    "B = count_mines(A)\n",
    "for L in B:\n",
    "    print(\" \".join(str(c) for c in L))\n"
   ]
  },
  {
   "cell_type": "markdown",
   "metadata": {},
   "source": [
    "#### Problema 8 - jogo da velha"
   ]
  },
  {
   "cell_type": "code",
   "execution_count": null,
   "metadata": {},
   "outputs": [],
   "source": [
    "J = []\n",
    "px, po = 0, 0\n",
    "for i in range(3):\n",
    "    L = [str(i) for i in input().split(\"|\")]\n",
    "    J.append(L)\n",
    "    \n",
    "    \n",
    "x_ganhou = False\n",
    "o_ganhou = False\n",
    "for i in range(3): #linha\n",
    "    px, po = 0, 0\n",
    "    for j in range(3):\n",
    "        if(J[i][j] == 'X'):\n",
    "            px+=1\n",
    "        else:\n",
    "            po+=1\n",
    "    if(px == 3):\n",
    "        x_ganhou = True\n",
    "    elif(po == 3):\n",
    "        o_ganhou = True\n",
    "        \n",
    "\n",
    "if (not (x_ganhou or o_ganhou)):\n",
    "    for j in range(3): #coluna\n",
    "        px, po = 0, 0\n",
    "        for i in range(3):\n",
    "            if(J[i][j] == 'X'):\n",
    "                px+=1\n",
    "            else:\n",
    "                po+=1\n",
    "        if(px == 3):\n",
    "            x_ganhou = True\n",
    "        elif(po == 3):\n",
    "            o_ganhou = True\n",
    "            \n",
    "if (not (x_ganhou or o_ganhou)): \n",
    "    px, po = 0, 0\n",
    "    for i in range(3): #diagonal principal\n",
    "        if(J[i][i] == 'X'):\n",
    "            px += 1\n",
    "        else:\n",
    "            po += 1\n",
    "    if(px == 3):\n",
    "        x_ganhou = True\n",
    "    elif(po == 3):\n",
    "        o_ganhou = True\n",
    "        \n",
    "        \n",
    "if (not (x_ganhou or o_ganhou)): \n",
    "    px, po = 0, 0\n",
    "    for i in range(3): #diagonal secundária\n",
    "        if(J[i][2-i] == 'X'):\n",
    "            px += 1\n",
    "        else:\n",
    "            po += 1\n",
    "    if(px == 3):\n",
    "        x_ganhou = True\n",
    "    elif(po == 3):\n",
    "        o_ganhou = True\n",
    "          \n",
    "if(not (x_ganhou or o_ganhou)):\n",
    "    print('Velha')\n",
    "elif(x_ganhou):\n",
    "    print('X')\n",
    "else:\n",
    "    print('O')"
   ]
  },
  {
   "cell_type": "markdown",
   "metadata": {},
   "source": [
    "#### Problema 9 - batalha naval\n"
   ]
  },
  {
   "cell_type": "code",
   "execution_count": null,
   "metadata": {},
   "outputs": [],
   "source": [
    "def count_mines(A):\n",
    "    B = A.copy()\n",
    "    for i in range(A.shape[0]):\n",
    "        i_aux = i-1\n",
    "        if(i==0):\n",
    "                i_aux = 0\n",
    "        for j in range(A.shape[1]):\n",
    "            if(A[i,j] != -1):\n",
    "                j_aux = j-1\n",
    "                if(j==0):\n",
    "                    j_aux = 0\n",
    "                R = A[i_aux:i+2,j_aux:j+2]\n",
    "                B[i,j] = -np.sum(R)\n",
    "    return B\n",
    "\n",
    "import numpy as np\n",
    "A = []\n",
    "n, m = input().split()\n",
    "n, m = int(n), int(m)\n",
    "for i in range(m):\n",
    "    L = [int(x) for x in input().split()]\n",
    "    A.append(L)\n",
    "A = np.array(A)\n",
    "A[np.where(A == 1)] = -1\n",
    "B = count_mines(A)\n",
    "print(B)"
   ]
  },
  {
   "cell_type": "markdown",
   "metadata": {},
   "source": [
    "#### Problema 10 - Ampulheta"
   ]
  },
  {
   "cell_type": "code",
   "execution_count": null,
   "metadata": {},
   "outputs": [],
   "source": [
    "def ampulheta(A, i, j):\n",
    "    print(i)\n",
    "    print(j)\n",
    "    l = i\n",
    "    c = j\n",
    "    soma = 0\n",
    "    soma = A[l-1][c-1] + A[l-1][c] + A[l-1][c+1] + A[l][c] + A[l+1][c-1] + A[l+1][c] + A[l+1][c+1]\n",
    "    return soma\n",
    "\n",
    "import numpy as np\n",
    "A = []\n",
    "soma, maior = 0, 0\n",
    "n, m = input().split()\n",
    "n, m = int(n), int(m)\n",
    "for i in range(n):\n",
    "    L = [int(x) for x in input().split()]\n",
    "    A.append(L) #peguei a matriz\n",
    "A = np.array(A)\n",
    "for i in range(A.shape[0]-1):\n",
    "       for j in range(A.shape[1]-1):#passar a matriz para fazer a ampulheta\n",
    "            soma = 0\n",
    "            print(i)\n",
    "            print(j)\n",
    "            if((i > 0 and i < n-1) and (j > 0 and j <  m-1)):\n",
    "                soma = ampulheta(A, i, j)\n",
    "            if(soma > maior):\n",
    "                maior = soma   \n",
    "        #printando o resultado\n",
    "print(maior)\n"
   ]
  },
  {
   "cell_type": "code",
   "execution_count": null,
   "metadata": {},
   "outputs": [],
   "source": []
  },
  {
   "cell_type": "code",
   "execution_count": null,
   "metadata": {},
   "outputs": [],
   "source": []
  }
 ],
 "metadata": {
  "kernelspec": {
   "display_name": "Python 3",
   "language": "python",
   "name": "python3"
  },
  "language_info": {
   "codemirror_mode": {
    "name": "ipython",
    "version": 3
   },
   "file_extension": ".py",
   "mimetype": "text/x-python",
   "name": "python",
   "nbconvert_exporter": "python",
   "pygments_lexer": "ipython3",
   "version": "3.7.6"
  }
 },
 "nbformat": 4,
 "nbformat_minor": 4
}

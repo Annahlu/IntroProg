{
 "cells": [
  {
   "cell_type": "markdown",
   "metadata": {},
   "source": [
    "# Tuplas"
   ]
  },
  {
   "cell_type": "markdown",
   "metadata": {},
   "source": [
    "## O valores de uma tupla não podem ser alterados"
   ]
  },
  {
   "cell_type": "markdown",
   "metadata": {},
   "source": [
    "### tupla com um único elemento tupla=(1,)\n",
    "<ul> <li> pode usar slices </li>\n",
    "    <li> acessa posições com indices </li>\n",
    "    <li> Pode concatenar tuplas </li>\n",
    "     <li> alguns comandos: </li> </ul>"
   ]
  },
  {
   "cell_type": "code",
   "execution_count": null,
   "metadata": {},
   "outputs": [],
   "source": []
  },
  {
   "cell_type": "code",
   "execution_count": 2,
   "metadata": {},
   "outputs": [
    {
     "name": "stdout",
     "output_type": "stream",
     "text": [
      "12\n",
      "20\n"
     ]
    }
   ],
   "source": [
    "len((1,2,3)) #retorna o tamanho\n",
    "(1,2)+(3,4) # concatena\n",
    "(1,)*4 #repete\n",
    "3 in (1,2,3) #perinencia\n",
    "for x in (12,20): \n",
    "    print(x) #iteração"
   ]
  },
  {
   "cell_type": "markdown",
   "metadata": {},
   "source": [
    "## Dicionário\n",
    "<ul> <li>Associar uma chave a um valor </li>\n",
    "    <li> mapeamento </li>\n",
    "    <li> semelhante ao indice </li>\n",
    "     <li> Pode criar dicionario de dicionário</li> \n",
    "    <li> remover: del ou pop</li>\n",
    "    <li> correspondencia via índices</li>\n",
    "    <li> busca em lista auxiliar ou dicionario </li>\n",
    "</ul>"
   ]
  },
  {
   "cell_type": "markdown",
   "metadata": {},
   "source": [
    "### Como criar um dicionário em python?\n",
    "\n",
    "Dicio = {\"chave\":valor, \"chave\":valor}\n",
    "<ul> <li> </li>\n",
    "    <li>chave \"igual\" index </li>\n",
    "    <li> Chave nova: só adicionar, chamar um que não existe e inserir\n",
    "    </li>\n",
    "    <li>Dicionario['A']=100 </li>\n",
    "    <li> Não existe ordem no dicionario</li>\n",
    "    <ul><li> Hash table </li>\n",
    "    <li> Tabela de espelhamento </li>\n",
    "        <li> É proposital não ter ordem</li>\n",
    "    </ul>\n",
    "    <li> Passagem por referência</li>\n",
    "    <li> função dict : Uma lista de tuplas com pares chave-valor</li>\n",
    "    <li>As chaves tem que ser string sem aspas </li>\n",
    "    <li>Métodos da classe dict: </li>\n",
    "    <ul>\n",
    "        <li> dict.clear - limpar </li>\n",
    "        <li> dict.copy - copia e acaba com a passagem por referência - copia rasa </li>\n",
    "        <li>Resolve com deepcopy </li>  \n",
    "            <ul>\n",
    "                <li> import copy </li>\n",
    "            </ul> \n",
    "       <li> fromkeys([2,3]) </li>  \n",
    "         <ul>\n",
    "                 <li> Retorna um novo dicionario cujas chaves são os elementos de lista e cujos valores são todos iguais a um valor definido, se nao passar nenhum, default: none </li>\n",
    "                <li> {}.fromkeys([2,3]) </li>\n",
    "            </ul> \n",
    "        <li> Método get: get(chave, valor): retorna conteudo associado a chava</li> \n",
    "        <li> Método items: retorna uma \"lista\" de tuplas com todos os elem e chaves </li>\n",
    "        <li> Método keys: retorna só as chaves</li>\n",
    "        <li> Método value: retorna só os valores</li>\n",
    "        <li> Método pop: remove a chave e o valor e retorna</li>\n",
    "        <li> Método pop item: remove a chave e o valor e retorna e ???</li>\n",
    "        <li> Método del: remove um par chave valor escolhido\n",
    "        </li>\n",
    "        <li> Método update: valores que existem sao atualizados, qu nao existem são criados</li>\n",
    "        <li> Método pop: remove a chave e o valor e retorna</li>\n",
    "    </ul>   \n",
    "</ul>\n"
   ]
  }
 ],
 "metadata": {
  "kernelspec": {
   "display_name": "Python 3",
   "language": "python",
   "name": "python3"
  },
  "language_info": {
   "codemirror_mode": {
    "name": "ipython",
    "version": 3
   },
   "file_extension": ".py",
   "mimetype": "text/x-python",
   "name": "python",
   "nbconvert_exporter": "python",
   "pygments_lexer": "ipython3",
   "version": "3.7.6"
  }
 },
 "nbformat": 4,
 "nbformat_minor": 4
}
